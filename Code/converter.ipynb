{
 "cells": [
  {
   "cell_type": "code",
   "execution_count": 1,
   "id": "8bd47c9e-a668-4eac-b5c9-2c4f6f78e288",
   "metadata": {},
   "outputs": [
    {
     "name": "stdout",
     "output_type": "stream",
     "text": [
      "Collecting python-docx\n",
      "  Downloading python_docx-1.1.2-py3-none-any.whl.metadata (2.0 kB)\n",
      "Requirement already satisfied: lxml>=3.1.0 in c:\\users\\leslie\\anaconda3\\lib\\site-packages (from python-docx) (5.2.1)\n",
      "Requirement already satisfied: typing-extensions>=4.9.0 in c:\\users\\leslie\\anaconda3\\lib\\site-packages (from python-docx) (4.11.0)\n",
      "Downloading python_docx-1.1.2-py3-none-any.whl (244 kB)\n",
      "Installing collected packages: python-docx\n",
      "Successfully installed python-docx-1.1.2\n"
     ]
    },
    {
     "name": "stderr",
     "output_type": "stream",
     "text": [
      "\n",
      "[notice] A new release of pip is available: 25.0.1 -> 25.1.1\n",
      "[notice] To update, run: python.exe -m pip install --upgrade pip\n"
     ]
    }
   ],
   "source": [
    "!pip install python-docx\n"
   ]
  },
  {
   "cell_type": "code",
   "execution_count": 3,
   "id": "fc832484-8903-454b-a394-f9eb043d3be1",
   "metadata": {},
   "outputs": [],
   "source": [
    "from docx import Document\n",
    "import os"
   ]
  },
  {
   "cell_type": "code",
   "execution_count": 1,
   "id": "5e4a1bcd-e666-43f9-8c20-cd718a88d8dc",
   "metadata": {},
   "outputs": [
    {
     "name": "stdout",
     "output_type": "stream",
     "text": [
      "Converted './NEPHROLOGY(KIDNEYS AND HYPERTENSION).docx' to 'nephrology.txt' successfully.\n"
     ]
    }
   ],
   "source": [
    "from docx import Document\n",
    "\n",
    "def docx_to_txt(docx_path, txt_path):\n",
    "    # Load the .docx document\n",
    "    doc = Document(\"./NEPHROLOGY(KIDNEYS AND HYPERTENSION).docx\")\n",
    "    \n",
    "    # Extract all text from paragraphs\n",
    "    full_text = []\n",
    "    for para in doc.paragraphs:\n",
    "        full_text.append(para.text)\n",
    "    \n",
    "    # Join paragraphs with newline characters\n",
    "    text = '\\n'.join(full_text)\n",
    "    \n",
    "    # Write to a .txt file\n",
    "    with open(txt_path, 'w', encoding='utf-8') as txt_file:\n",
    "        txt_file.write(text)\n",
    "\n",
    "if __name__ == \"__main__\":\n",
    "    docx_file = './NEPHROLOGY(KIDNEYS AND HYPERTENSION).docx'  # input file path\n",
    "    txt_file = 'nephrology.txt'   #desired output file path\n",
    "    docx_to_txt(docx_file, txt_file)\n",
    "    print(f\"Converted '{docx_file}' to '{txt_file}' successfully.\")\n"
   ]
  },
  {
   "cell_type": "code",
   "execution_count": 3,
   "id": "5a4477b5-4920-4337-be2d-232eeb1070ef",
   "metadata": {},
   "outputs": [
    {
     "name": "stdout",
     "output_type": "stream",
     "text": [
      "Converted './DERMATOLOGY.docx' to 'dermatology.txt' successfully.\n"
     ]
    }
   ],
   "source": [
    "from docx import Document\n",
    "\n",
    "def docx_to_txt(docx_path, txt_path):\n",
    "    # Load the .docx document\n",
    "    doc = Document(\"./DERMATOLOGY.docx\")\n",
    "    \n",
    "    # Extract all text from paragraphs\n",
    "    full_text = []\n",
    "    for para in doc.paragraphs:\n",
    "        full_text.append(para.text)\n",
    "    \n",
    "    # Join paragraphs with newline characters\n",
    "    text = '\\n'.join(full_text)\n",
    "    \n",
    "    # Write to a .txt file\n",
    "    with open(txt_path, 'w', encoding='utf-8') as txt_file:\n",
    "        txt_file.write(text)\n",
    "\n",
    "if __name__ == \"__main__\":\n",
    "    docx_file = './DERMATOLOGY.docx'  # input file path\n",
    "    txt_file = 'dermatology.txt'   #desired output file path\n",
    "    docx_to_txt(docx_file, txt_file)\n",
    "    print(f\"Converted '{docx_file}' to '{txt_file}' successfully.\")\n"
   ]
  },
  {
   "cell_type": "code",
   "execution_count": 3,
   "id": "05abc5fc-cd40-453b-b8a0-6bc5448522c9",
   "metadata": {},
   "outputs": [
    {
     "name": "stdout",
     "output_type": "stream",
     "text": [
      "Converted './VALVULAR HEART DISEASE.docx' to 'valvular heart disease.txt' successfully.\n"
     ]
    }
   ],
   "source": [
    "from docx import Document\n",
    "\n",
    "def docx_to_txt(docx_path, txt_path):\n",
    "    # Load the .docx document\n",
    "    doc = Document(\"./VALVULAR HEART DISEASE.docx\")\n",
    "    \n",
    "    # Extract all text from paragraphs\n",
    "    full_text = []\n",
    "    for para in doc.paragraphs:\n",
    "        full_text.append(para.text)\n",
    "    \n",
    "    # Join paragraphs with newline characters\n",
    "    text = '\\n'.join(full_text)\n",
    "    \n",
    "    # Write to a .txt file\n",
    "    with open(txt_path, 'w', encoding='utf-8') as txt_file:\n",
    "        txt_file.write(text)\n",
    "\n",
    "if __name__ == \"__main__\":\n",
    "    docx_file = './VALVULAR HEART DISEASE.docx'  # input file path\n",
    "    txt_file = 'valvular heart disease.txt'   #desired output file path\n",
    "    docx_to_txt(docx_file, txt_file)\n",
    "    print(f\"Converted '{docx_file}' to '{txt_file}' successfully.\")"
   ]
  },
  {
   "cell_type": "code",
   "execution_count": 5,
   "id": "3c3b80ed-0bbd-4635-9a37-b36930845807",
   "metadata": {},
   "outputs": [
    {
     "name": "stdout",
     "output_type": "stream",
     "text": [
      "Converted './PEDIATRIC PULMONOLOGY 1.docx' to 'PEDIATRIC PULMONOLOGY.txt' successfully.\n"
     ]
    }
   ],
   "source": [
    "from docx import Document\n",
    "\n",
    "def docx_to_txt(docx_path, txt_path):\n",
    "    # Load the .docx document\n",
    "    doc = Document(\"./PEDIATRIC PULMONOLOGY 1.docx\")\n",
    "    \n",
    "    # Extract all text from paragraphs\n",
    "    full_text = []\n",
    "    for para in doc.paragraphs:\n",
    "        full_text.append(para.text)\n",
    "    \n",
    "    # Join paragraphs with newline characters\n",
    "    text = '\\n'.join(full_text)\n",
    "    \n",
    "    # Write to a .txt file\n",
    "    with open(txt_path, 'w', encoding='utf-8') as txt_file:\n",
    "        txt_file.write(text)\n",
    "\n",
    "if __name__ == \"__main__\":\n",
    "    docx_file = './PEDIATRIC PULMONOLOGY 1.docx'  # input file path\n",
    "    txt_file = 'PEDIATRIC PULMONOLOGY.txt'   #desired output file path\n",
    "    docx_to_txt(docx_file, txt_file)\n",
    "    print(f\"Converted '{docx_file}' to '{txt_file}' successfully.\")"
   ]
  },
  {
   "cell_type": "code",
   "execution_count": 7,
   "id": "b7a3540a-c6f9-4316-b2e3-d92d410f78d3",
   "metadata": {},
   "outputs": [
    {
     "name": "stdout",
     "output_type": "stream",
     "text": [
      "Converted './PEDIATRIC PULMONOLOGY 2.docx' to 'PEDIATRIC PULMONOLOGY 2.txt' successfully.\n"
     ]
    }
   ],
   "source": [
    "from docx import Document\n",
    "\n",
    "def docx_to_txt(docx_path, txt_path):\n",
    "    # Load the .docx document\n",
    "    doc = Document(\"./PEDIATRIC PULMONOLOGY 2.docx\")\n",
    "    \n",
    "    # Extract all text from paragraphs\n",
    "    full_text = []\n",
    "    for para in doc.paragraphs:\n",
    "        full_text.append(para.text)\n",
    "    \n",
    "    # Join paragraphs with newline characters\n",
    "    text = '\\n'.join(full_text)\n",
    "    \n",
    "    # Write to a .txt file\n",
    "    with open(txt_path, 'w', encoding='utf-8') as txt_file:\n",
    "        txt_file.write(text)\n",
    "\n",
    "if __name__ == \"__main__\":\n",
    "    docx_file = './PEDIATRIC PULMONOLOGY 2.docx'  # input file path\n",
    "    txt_file = 'PEDIATRIC PULMONOLOGY 2.txt'   #desired output file path\n",
    "    docx_to_txt(docx_file, txt_file)\n",
    "    print(f\"Converted '{docx_file}' to '{txt_file}' successfully.\")"
   ]
  },
  {
   "cell_type": "code",
   "execution_count": 3,
   "id": "2d1236dc-04ae-48c7-be7a-2473743b586a",
   "metadata": {},
   "outputs": [
    {
     "name": "stdout",
     "output_type": "stream",
     "text": [
      "Converted './orthopedics 2.docx' to 'orthopedics 2.txt' successfully.\n"
     ]
    }
   ],
   "source": [
    "from docx import Document\n",
    "\n",
    "def docx_to_txt(docx_path, txt_path):\n",
    "    # Load the .docx document\n",
    "    doc = Document(\"./orthopedics 2.docx\")\n",
    "    \n",
    "    # Extract all text from paragraphs\n",
    "    full_text = []\n",
    "    for para in doc.paragraphs:\n",
    "        full_text.append(para.text)\n",
    "    \n",
    "    # Join paragraphs with newline characters\n",
    "    text = '\\n'.join(full_text)\n",
    "    \n",
    "    # Write to a .txt file\n",
    "    with open(txt_path, 'w', encoding='utf-8') as txt_file:\n",
    "        txt_file.write(text)\n",
    "\n",
    "if __name__ == \"__main__\":\n",
    "    docx_file = './orthopedics 2.docx'  # input file path\n",
    "    txt_file = 'orthopedics 2.txt'   #desired output file path\n",
    "    docx_to_txt(docx_file, txt_file)\n",
    "    print(f\"Converted '{docx_file}' to '{txt_file}' successfully.\")"
   ]
  },
  {
   "cell_type": "code",
   "execution_count": 5,
   "id": "1186615e-8442-4e71-83d4-85c69d91623a",
   "metadata": {},
   "outputs": [
    {
     "name": "stdout",
     "output_type": "stream",
     "text": [
      "Converted './Orthopaedics.docx' to 'orthopedics.txt' successfully.\n"
     ]
    }
   ],
   "source": [
    "from docx import Document\n",
    "\n",
    "def docx_to_txt(docx_path, txt_path):\n",
    "    # Load the .docx document\n",
    "    doc = Document(\"./Orthopaedics.docx\")\n",
    "    \n",
    "    # Extract all text from paragraphs\n",
    "    full_text = []\n",
    "    for para in doc.paragraphs:\n",
    "        full_text.append(para.text)\n",
    "    \n",
    "    # Join paragraphs with newline characters\n",
    "    text = '\\n'.join(full_text)\n",
    "    \n",
    "    # Write to a .txt file\n",
    "    with open(txt_path, 'w', encoding='utf-8') as txt_file:\n",
    "        txt_file.write(text)\n",
    "\n",
    "if __name__ == \"__main__\":\n",
    "    docx_file = './Orthopaedics.docx'  # input file path\n",
    "    txt_file = 'orthopedics.txt'   #desired output file path\n",
    "    docx_to_txt(docx_file, txt_file)\n",
    "    print(f\"Converted '{docx_file}' to '{txt_file}' successfully.\")"
   ]
  },
  {
   "cell_type": "code",
   "execution_count": 7,
   "id": "afcbfc7b-cd29-4193-b0e7-e9ce0074cfd3",
   "metadata": {},
   "outputs": [
    {
     "name": "stdout",
     "output_type": "stream",
     "text": [
      "Converted './OTHOPEDIC 3.docx' to 'orthopedics 3.txt' successfully.\n"
     ]
    }
   ],
   "source": [
    "from docx import Document\n",
    "\n",
    "def docx_to_txt(docx_path, txt_path):\n",
    "    # Load the .docx document\n",
    "    doc = Document(\"./OTHOPEDIC 3.docx\")\n",
    "    \n",
    "    # Extract all text from paragraphs\n",
    "    full_text = []\n",
    "    for para in doc.paragraphs:\n",
    "        full_text.append(para.text)\n",
    "    \n",
    "    # Join paragraphs with newline characters\n",
    "    text = '\\n'.join(full_text)\n",
    "    \n",
    "    # Write to a .txt file\n",
    "    with open(txt_path, 'w', encoding='utf-8') as txt_file:\n",
    "        txt_file.write(text)\n",
    "\n",
    "if __name__ == \"__main__\":\n",
    "    docx_file = './OTHOPEDIC 3.docx'  # input file path\n",
    "    txt_file = 'orthopedics 3.txt'   #desired output file path\n",
    "    docx_to_txt(docx_file, txt_file)\n",
    "    print(f\"Converted '{docx_file}' to '{txt_file}' successfully.\")"
   ]
  },
  {
   "cell_type": "code",
   "execution_count": 9,
   "id": "0de4ef15-5760-400e-9d2a-17eb02a1b636",
   "metadata": {},
   "outputs": [
    {
     "name": "stdout",
     "output_type": "stream",
     "text": [
      "Requirement already satisfied: scikit-learn in c:\\users\\leslie\\anaconda3\\lib\\site-packages (1.5.1)\n",
      "Requirement already satisfied: nltk in c:\\users\\leslie\\anaconda3\\lib\\site-packages (3.9.1)\n",
      "Requirement already satisfied: numpy>=1.19.5 in c:\\users\\leslie\\anaconda3\\lib\\site-packages (from scikit-learn) (1.26.4)\n",
      "Requirement already satisfied: scipy>=1.6.0 in c:\\users\\leslie\\anaconda3\\lib\\site-packages (from scikit-learn) (1.13.1)\n",
      "Requirement already satisfied: joblib>=1.2.0 in c:\\users\\leslie\\anaconda3\\lib\\site-packages (from scikit-learn) (1.4.2)\n",
      "Requirement already satisfied: threadpoolctl>=3.1.0 in c:\\users\\leslie\\anaconda3\\lib\\site-packages (from scikit-learn) (3.5.0)\n",
      "Requirement already satisfied: click in c:\\users\\leslie\\anaconda3\\lib\\site-packages (from nltk) (8.1.7)\n",
      "Requirement already satisfied: regex>=2021.8.3 in c:\\users\\leslie\\anaconda3\\lib\\site-packages (from nltk) (2024.9.11)\n",
      "Requirement already satisfied: tqdm in c:\\users\\leslie\\anaconda3\\lib\\site-packages (from nltk) (4.66.5)\n",
      "Requirement already satisfied: colorama in c:\\users\\leslie\\anaconda3\\lib\\site-packages (from click->nltk) (0.4.6)\n",
      "Note: you may need to restart the kernel to use updated packages.\n"
     ]
    },
    {
     "name": "stderr",
     "output_type": "stream",
     "text": [
      "\n",
      "[notice] A new release of pip is available: 25.0.1 -> 25.1.1\n",
      "[notice] To update, run: python.exe -m pip install --upgrade pip\n"
     ]
    }
   ],
   "source": [
    "pip install scikit-learn nltk\n"
   ]
  },
  {
   "cell_type": "code",
   "execution_count": 11,
   "id": "69f8540c-2e19-469b-9547-51e10cc6ba1b",
   "metadata": {},
   "outputs": [
    {
     "name": "stderr",
     "output_type": "stream",
     "text": [
      "[nltk_data] Downloading package punkt to\n",
      "[nltk_data]     C:\\Users\\Leslie\\AppData\\Roaming\\nltk_data...\n",
      "[nltk_data]   Unzipping tokenizers\\punkt.zip.\n"
     ]
    },
    {
     "data": {
      "text/plain": [
       "True"
      ]
     },
     "execution_count": 11,
     "metadata": {},
     "output_type": "execute_result"
    }
   ],
   "source": [
    "import nltk\n",
    "from sklearn.feature_extraction.text import CountVectorizer\n",
    "from sklearn.naive_bayes import MultinomialNB\n",
    "from sklearn.pipeline import Pipeline\n",
    "\n",
    "nltk.download('punkt')\n"
   ]
  },
  {
   "cell_type": "code",
   "execution_count": null,
   "id": "69e67479-c117-4fa5-9a9d-4fd31033983c",
   "metadata": {},
   "outputs": [],
   "source": []
  }
 ],
 "metadata": {
  "kernelspec": {
   "display_name": "Python 3 (ipykernel)",
   "language": "python",
   "name": "python3"
  },
  "language_info": {
   "codemirror_mode": {
    "name": "ipython",
    "version": 3
   },
   "file_extension": ".py",
   "mimetype": "text/x-python",
   "name": "python",
   "nbconvert_exporter": "python",
   "pygments_lexer": "ipython3",
   "version": "3.12.7"
  }
 },
 "nbformat": 4,
 "nbformat_minor": 5
}
